{
 "cells": [
  {
   "cell_type": "markdown",
   "metadata": {},
   "source": [
    "# Exercise - Data Exploration\n",
    "\n",
    "Load the data\n",
    "- 이 섹션에서는 판다 라이브러리를 사용\n",
    "- 가장 먼저 해야 할 일은 CSV 데이터를 로드하고 읽을 수 있는지 확인하는 것\n",
    "- Pandas 라이브러리에는 빠른 CSV 로더가 있으며 그 결과는 데이터 프레임에 저장됨\n",
    "- 로드하는 CSV에는 50만 개가 넘는 행이 있지만 열은 17개에 불과\n",
    "- Pandas는 모든 행에 대해 작업을 수행하는 기능을 포함하여 데이터 프레임과 상호 작용할 수 있는 다양한 방법을 제공\n",
    "\n",
    "사용할 데이터 파일을 로드하는 것부터 시작"
   ]
  },
  {
   "cell_type": "code",
   "execution_count": 1,
   "metadata": {},
   "outputs": [
    {
     "ename": "SyntaxError",
     "evalue": "invalid syntax (2485367762.py, line 4)",
     "output_type": "error",
     "traceback": [
      "\u001b[1;36m  Input \u001b[1;32mIn [1]\u001b[1;36m\u001b[0m\n\u001b[1;33m    // generate a random number between 1 and 100\u001b[0m\n\u001b[1;37m    ^\u001b[0m\n\u001b[1;31mSyntaxError\u001b[0m\u001b[1;31m:\u001b[0m invalid syntax\n"
     ]
    }
   ],
   "source": [
    "# Load the hotel reviews from CSV\n",
    "import pandas as pd\n",
    "import time\n",
    "\n",
    "# importing time so the start and end time can be used to calculate file loading time\n",
    "print(\"Loading data file now, this could take a while depending on file size\")\n",
    "start = time.time()\n",
    "df = pd.read_csv('./Hotel_Reviews.csv')\n",
    "end = time.time()\n",
    "print(\"Loading took \" + str(round(end - start, 2)) + \" seconds\")"
   ]
  },
  {
   "cell_type": "markdown",
   "metadata": {},
   "source": [
    "# Explore the data\n",
    "\n",
    "- 데이터는 깨끗한 상태이므로 작업할 준비가 되어 있으며, 영어 문자만 기대하는 알고리즘을 방해하는 다른 언어의 문자가 없음\n",
    "- 데이터가 로드되면 코드로 데이터를 탐색할 수 있는지 확인\n",
    "- 부정적_리뷰 및 긍정적_리뷰 열은 NLP 알고리즘이 처리할 수 있는 텍스트로 채워져 있음\n",
    "- NLP와 감성을 살펴보기 전에 아래 코드를 사용해서 데이터 세트에 주어진 값이 팬더로 계산한 값과 일치하는지 확인하는 것이 필요"
   ]
  },
  {
   "cell_type": "markdown",
   "metadata": {},
   "source": [
    "# Dataframe operations\n",
    "\n",
    "1. 로드한 데이터 프레임의 모양을 프린트 (모양은 행과 열의 수)\n",
    "2. 검토자 국적의 빈도 수를 계산:\n",
    "- 검토자_국적 열에 고유한 값이 몇 개 있으며 그 값은 무엇인가?\n",
    "- 데이터 집합(인쇄 국가 및 리뷰 수)에서 가장 일반적인 리뷰어 국적은 무엇인가?\n",
    "- 다음으로 가장 자주 발견되는 상위 10개 국적은 무엇이며 그 빈도 수는 얼마인가?\n",
    "3. 리뷰가 가장 많이 작성된 상위 10개 국적별로 가장 자주 리뷰가 작성된 호텔은 어디인가?\n",
    "4. 데이터 세트에서 호텔당 리뷰 수(호텔의 빈도 수)는 몇 개인가?\n",
    "5. 데이터 집합에 각 호텔에 대한 평균 점수 열이 있지만 평균 점수(각 호텔에 대한 데이터 집합의 모든 리뷰어 점수의 평균을 구하는 것)를 계산할 수도 있음\n",
    "- 계산된 평균을 포함하는 열 머리글이 Calc_Average_Score인 새 열을 데이터 프레임에 추가\n",
    "6. 동일한(소수점 이하 1자리 반올림) Average_Score와 Calc_Average_Score를 가진 호텔이 있는지 확인\n",
    "- Series(행)를 인수로 받아 값을 비교하고 값이 같지 않으면 메시지를 출력하는 Python 함수를 작성하고  .apply() 메서드를 사용하여 함수로 모든 행을 처리\n",
    "7. 부정_검토 열 값이 \"No Negative\"인 행의 개수를 계산하여 출력\n",
    "8. Positive_Review 열 값이 \"No Positive\"인 행의 개수를 계산하여 출력\n",
    "9. 열 Positive_Review 값이 \"No Positive\", Negative_Review 값이 \"No Negative\"인 행의 수를 계산하여 출력"
   ]
  },
  {
   "cell_type": "code",
   "execution_count": null,
   "metadata": {},
   "outputs": [],
   "source": [
    "# Print out the shape of the loaded data frame (the shape is the number of rows and columns)\n",
    "print(\"The shape of the data (rows, cols) is \" + str(df.shape))"
   ]
  },
  {
   "cell_type": "code",
   "execution_count": null,
   "metadata": {},
   "outputs": [],
   "source": [
    "# Calculate the frequency count for reviewer nationalities\n",
    "# How many distinct values are there for the column Reviewer_Nationality and what are they?\n",
    "# What reviewer nationality is the most common in the dataset (print country and number of reviews)?\n",
    "nationality_freq = df[\"Reviewer_Nationality\"].value_counts()\n",
    "print(\"There are \" + str(nationality_freq.size) + \" different nationalities\")\n",
    "# print first and last rows of the Series. Change to nationality_freq.to_string() to print all of the data\n",
    "print(nationality_freq) "
   ]
  },
  {
   "cell_type": "code",
   "execution_count": null,
   "metadata": {},
   "outputs": [],
   "source": [
    "# What are the next top 10 most frequently found nationalities, and their frequency count?\n",
    "\n",
    "print(\"The highest frequency reviewer nationality is \" + str(nationality_freq.index[0]).strip() + \" with \" + str(nationality_freq[0]) + \" reviews.\")\n",
    "\n",
    "# Notice there is a leading space on the values, strip() removes that for printing\n",
    "# What is the top 10 most common nationalities and their frequencies?\n",
    "\n",
    "print(\"The next 10 highest frequency reviewer nationalities are:\")\n",
    "print(nationality_freq[1:11].to_string())"
   ]
  },
  {
   "cell_type": "code",
   "execution_count": null,
   "metadata": {},
   "outputs": [],
   "source": [
    "# What was the most frequently reviewed hotel for the top 10 nationalities\n",
    "for nat in nationality_freq[:10].index:\n",
    "   # First, extract all the rows that match the criteria into a new dataframe\n",
    "   nat_df = df[df[\"Reviewer_Nationality\"] == nat]   \n",
    "   # Now get the hotel freq\n",
    "   freq = nat_df[\"Hotel_Name\"].value_counts()\n",
    "   print(\"The most reviewed hotel for \" + str(nat).strip() + \" was \" + str(freq.index[0]) + \" with \" + str(freq[0]) + \" reviews.\") "
   ]
  },
  {
   "cell_type": "code",
   "execution_count": null,
   "metadata": {},
   "outputs": [],
   "source": [
    "# How many reviews are there per hotel (frequency count of hotel) in the dataset?\n",
    "\n",
    "# First create a new dataframe based on the old one, removing the uneeded columns\n",
    "hotel_freq_df = df.drop([\"Hotel_Address\", \"Additional_Number_of_Scoring\", \"Review_Date\", \"Average_Score\", \"Reviewer_Nationality\", \"Negative_Review\", \"Review_Total_Negative_Word_Counts\", \"Positive_Review\", \"Review_Total_Positive_Word_Counts\", \"Total_Number_of_Reviews_Reviewer_Has_Given\", \"Reviewer_Score\", \"Tags\", \"days_since_review\", \"lat\", \"lng\"], axis = 1)\n",
    "\n",
    "# Group the rows by Hotel_Name, count them and put the result in a new column Total_Reviews_Found\n",
    "hotel_freq_df['Total_Reviews_Found'] = hotel_freq_df.groupby('Hotel_Name').transform('count')\n",
    "\n",
    "# Get rid of all the duplicated rows\n",
    "hotel_freq_df = hotel_freq_df.drop_duplicates(subset = [\"Hotel_Name\"])\n",
    "display(hotel_freq_df) \n"
   ]
  },
  {
   "cell_type": "markdown",
   "metadata": {},
   "source": [
    "- The counted in the dataset results do not match the value in Total_Number_of_Reviews.\n",
    "- It is unclear if this value in the dataset represented the total number of reviews the hotel had, but not all were scraped, or some other calculation.\n",
    "- Total_Number_of_Reviews is not used in the model because of this unclarity."
   ]
  },
  {
   "cell_type": "code",
   "execution_count": null,
   "metadata": {},
   "outputs": [],
   "source": [
    "# While there is an `Average_Score` for each hotel according to the dataset, \n",
    "# you can also calculate an average score (getting the average of all reviewer scores in the dataset for each hotel)\n",
    "# Add a new column to your dataframe with the column header `Calc_Average_Score` that contains that calculated average. \n",
    "\n",
    "# define a function that takes a row and performs some calculation with it\n",
    "def get_difference_review_avg(row):\n",
    "  return row[\"Average_Score\"] - row[\"Calc_Average_Score\"]\n",
    "\n",
    "# 'mean' is mathematical word for 'average'\n",
    "df['Calc_Average_Score'] = round(df.groupby('Hotel_Name').Reviewer_Score.transform('mean'), 1)\n",
    "\n",
    "# Add a new column with the difference between the two average scores\n",
    "df[\"Average_Score_Difference\"] = df.apply(get_difference_review_avg, axis = 1)\n",
    "\n",
    "# Create a df without all the duplicates of Hotel_Name (so only 1 row per hotel)\n",
    "review_scores_df = df.drop_duplicates(subset = [\"Hotel_Name\"])\n",
    "\n",
    "# Sort the dataframe to find the lowest and highest average score difference\n",
    "review_scores_df = review_scores_df.sort_values(by=[\"Average_Score_Difference\"])\n",
    "\n",
    "display(review_scores_df[[\"Average_Score_Difference\", \"Average_Score\", \"Calc_Average_Score\", \"Hotel_Name\"]])"
   ]
  },
  {
   "cell_type": "markdown",
   "metadata": {},
   "source": [
    "- You may also wonder about the Average_Score value and why it is sometimes different from the calculated average score.\n",
    "- As we can't know why some of the values match, but others have a difference, it's safest in this case to use the review scores that we have to calculate the average ourselves.\n",
    "- That said, the differences are usually very small.\n",
    "\n",
    "- With only 1 hotel having a difference of score greater than 1, it means we can probably ignore the difference and use the calculated average score."
   ]
  },
  {
   "cell_type": "markdown",
   "metadata": {},
   "source": [
    "- Calculate and print out how many rows have column Negative_Review values of \"No Negative\"\n",
    "- Calculate and print out how many rows have column Positive_Review values of \"No Positive\"\n",
    "- Calculate and print out how many rows have column Positive_Review values of \"No Positive\" and Negative_Review values of \"No Negative\""
   ]
  },
  {
   "cell_type": "code",
   "execution_count": null,
   "metadata": {},
   "outputs": [],
   "source": [
    "# with lambdas:\n",
    "start = time.time()\n",
    "no_negative_reviews = df.apply(lambda x: True if x['Negative_Review'] == \"No Negative\" else False , axis=1)\n",
    "print(\"Number of No Negative reviews: \" + str(len(no_negative_reviews[no_negative_reviews == True].index)))\n",
    "\n",
    "no_positive_reviews = df.apply(lambda x: True if x['Positive_Review'] == \"No Positive\" else False , axis=1)\n",
    "print(\"Number of No Positive reviews: \" + str(len(no_positive_reviews[no_positive_reviews == True].index)))\n",
    "\n",
    "both_no_reviews = df.apply(lambda x: True if x['Negative_Review'] == \"No Negative\" and x['Positive_Review'] == \"No Positive\" else False , axis=1)\n",
    "print(\"Number of both No Negative and No Positive reviews: \" + str(len(both_no_reviews[both_no_reviews == True].index)))\n",
    "end = time.time()\n",
    "print(\"Lambdas took \" + str(round(end - start, 2)) + \" seconds\")"
   ]
  },
  {
   "cell_type": "markdown",
   "metadata": {},
   "source": [
    "Another way count items without Lambdas, and use sum to count the row"
   ]
  },
  {
   "cell_type": "code",
   "execution_count": null,
   "metadata": {},
   "outputs": [],
   "source": [
    "# without lambdas (using a mixture of notations to show you can use both)\n",
    "start = time.time()\n",
    "no_negative_reviews = sum(df.Negative_Review == \"No Negative\")\n",
    "print(\"Number of No Negative reviews: \" + str(no_negative_reviews))\n",
    "\n",
    "no_positive_reviews = sum(df[\"Positive_Review\"] == \"No Positive\")\n",
    "print(\"Number of No Positive reviews: \" + str(no_positive_reviews))\n",
    "\n",
    "both_no_reviews = sum((df.Negative_Review == \"No Negative\") & (df.Positive_Review == \"No Positive\"))\n",
    "print(\"Number of both No Negative and No Positive reviews: \" + str(both_no_reviews))\n",
    "\n",
    "end = time.time()\n",
    "print(\"Sum took \" + str(round(end - start, 2)) + \" seconds\")"
   ]
  },
  {
   "cell_type": "markdown",
   "metadata": {},
   "source": [
    "- You may have noticed that there are 127 rows that have both \"No Negative\" and \"No Positive\" values for the columns Negative_Review and Positive_Review respectively\n",
    "- That means that the reviewer gave the hotel a numerical score, but declined to write either a positive or negative review.\n",
    "- Luckily this is a small amount of rows (127 out of 515738, or 0.02%), so it probably won't skew our model or results in any particular direction, but you might not have expected a data set of reviews to have rows with no reviews, so it's worth exploring the data to discover rows like this."
   ]
  },
  {
   "cell_type": "markdown",
   "metadata": {},
   "source": []
  },
  {
   "cell_type": "code",
   "execution_count": null,
   "metadata": {},
   "outputs": [],
   "source": []
  }
 ],
 "metadata": {
  "kernelspec": {
   "display_name": "Python 3",
   "language": "python",
   "name": "python3"
  },
  "language_info": {
   "codemirror_mode": {
    "name": "ipython",
    "version": 3
   },
   "file_extension": ".py",
   "mimetype": "text/x-python",
   "name": "python",
   "nbconvert_exporter": "python",
   "pygments_lexer": "ipython3",
   "version": "3.10.2"
  },
  "orig_nbformat": 4
 },
 "nbformat": 4,
 "nbformat_minor": 2
}
